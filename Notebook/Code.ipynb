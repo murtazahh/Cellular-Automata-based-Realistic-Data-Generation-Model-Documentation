{
 "cells": [
  {
   "cell_type": "markdown",
   "id": "7c058b02",
   "metadata": {},
   "source": [
    "code implementation for generating the traffic data and building the classification models"
   ]
  },
  {
   "cell_type": "code",
   "execution_count": null,
   "id": "565ecd53",
   "metadata": {},
   "outputs": [],
   "source": [
    "import numpy as np\n",
    "import pandas as pd\n",
    "from sklearn.model_selection import train_test_split\n",
    "from sklearn.neighbors import KNeighborsClassifier\n",
    "from sklearn.svm import SVC\n",
    "from sklearn.ensemble import RandomForestClassifier\n",
    "from sklearn.tree import DecisionTreeClassifier\n",
    "from sklearn.metrics import accuracy_score, f1_score, recall_score, precision_score, confusion_matrix\n"
   ]
  },
  {
   "cell_type": "markdown",
   "id": "a2469d67",
   "metadata": {},
   "source": [
    " create a function to generate the traffic data based on the parameters we discussed earlier"
   ]
  },
  {
   "cell_type": "code",
   "execution_count": null,
   "id": "437b8724",
   "metadata": {},
   "outputs": [],
   "source": [
    "def generate_traffic_data(num_samples):\n",
    "    # Generate random data for the parameters\n",
    "    vehicle_types = np.random.choice(['car', 'truck', 'bus', 'motorcycle'], size=num_samples)\n",
    "    road_conditions = np.random.choice(['dry', 'wet', 'snowy', 'icy'], size=num_samples)\n",
    "    weather_data = np.random.randint(-10, 40, size=num_samples)\n",
    "    time_of_day = np.random.choice(['morning rush hour', 'evening rush hour', 'midday'], size=num_samples)\n",
    "    day_of_week = np.random.choice(['weekday', 'weekend', 'holiday'], size=num_samples)\n",
    "    average_speed = np.random.randint(20, 120, size=num_samples)\n",
    "    energy_consumption = np.random.randint(5, 50, size=num_samples)\n",
    "    carbon_emissions = np.random.randint(5, 50, size=num_samples)\n",
    "\n",
    "    # Create the dataframe\n",
    "    df = pd.DataFrame({\n",
    "        'vehicle_type': vehicle_types,\n",
    "        'road_conditions': road_conditions,\n",
    "        'weather_data': weather_data,\n",
    "        'time_of_day': time_of_day,\n",
    "        'day_of_week': day_of_week,\n",
    "        'average_speed': average_speed,\n",
    "        'energy_consumption': energy_consumption,\n",
    "        'carbon_emissions': carbon_emissions\n",
    "    })\n",
    "\n",
    "    return df\n"
   ]
  },
  {
   "cell_type": "markdown",
   "id": "d767a770",
   "metadata": {},
   "source": [
    "Split the Data into Train and Test Sets"
   ]
  },
  {
   "cell_type": "code",
   "execution_count": null,
   "id": "b25fe8f1",
   "metadata": {},
   "outputs": [],
   "source": [
    "data = generate_traffic_data(10000)\n",
    "X = data.drop('vehicle_type', axis=1)\n",
    "y = data['vehicle_type']\n",
    "\n",
    "X_train, X_test, y_train, y_test = train_test_split(X, y, test_size=0.2, random_state=42)\n"
   ]
  },
  {
   "cell_type": "markdown",
   "id": "52f9de52",
   "metadata": {},
   "source": [
    "Train and Test the Classification Models"
   ]
  },
  {
   "cell_type": "code",
   "execution_count": null,
   "id": "5f92404b",
   "metadata": {},
   "outputs": [],
   "source": [
    "# KNN Classifier\n",
    "def train_knn(X_train, y_train):\n",
    "    knn = KNeighborsClassifier(n_neighbors=5)\n",
    "    knn.fit(X_train, y_train)\n",
    "    return knn\n",
    "\n",
    "def test_knn(model, X_test, y_test):\n",
    "    y_pred = model.predict(X_test)\n",
    "    accuracy = accuracy_score(y_test, y_pred)\n",
    "    f1 = f1_score(y_test, y_pred, average='weighted')\n",
    "    recall = recall_score(y_test, y_pred, average='weighted')\n",
    "    precision = precision_score(y_test, y_pred, average='weighted')\n",
    "    cm = confusion_matrix(y_test, y_pred)\n",
    "    return accuracy, f1, recall, precision, cm\n",
    "\n",
    "# SVM Classifier\n",
    "def train_svm(X_train, y_train):\n",
    "    svm = SVC(kernel='linear')\n",
    "    svm.fit(X_train, y_train)\n",
    "    return svm\n",
    "\n",
    "def test_svm(model, X_test, y_test):\n",
    "    y_pred = model.predict(X_test)\n",
    "    accuracy = accuracy_score(y_test, y_pred)\n",
    "    f1 = f1_score(y_test, y_pred, average\n",
    "    recall = recall_score(y_test, y_pred, average='weighted')\n",
    "    precision = precision_score(y_test, y_pred, average='weighted')\n",
    "    cm = confusion_matrix(y_test, y_pred)\n",
    "    return accuracy, f1, recall, precision, cm"
   ]
  },
  {
   "cell_type": "markdown",
   "id": "67bd5f07",
   "metadata": {},
   "source": [
    "Random Forest Classifier"
   ]
  },
  {
   "cell_type": "code",
   "execution_count": null,
   "id": "b7912add",
   "metadata": {},
   "outputs": [],
   "source": [
    "def train_rf(X_train, y_train):\n",
    "rf = RandomForestClassifier(n_estimators=100, random_state=42)\n",
    "rf.fit(X_train, y_train)\n",
    "return rf\n",
    "\n",
    "def test_rf(model, X_test, y_test):\n",
    "y_pred = model.predict(X_test)\n",
    "accuracy = accuracy_score(y_test, y_pred)\n",
    "f1 = f1_score(y_test, y_pred, average='weighted')\n",
    "recall = recall_score(y_test, y_pred, average='weighted')\n",
    "precision = precision_score(y_test, y_pred, average='weighted')\n",
    "cm = confusion_matrix(y_test, y_pred)\n",
    "return accuracy, f1, recall, precision, cm"
   ]
  },
  {
   "cell_type": "markdown",
   "id": "7b1673f7",
   "metadata": {},
   "source": [
    "Decision Tree Classifier"
   ]
  },
  {
   "cell_type": "markdown",
   "id": "e170afce",
   "metadata": {},
   "source": [
    "def train_dt(X_train, y_train):\n",
    "dt = DecisionTreeClassifier(random_state=42)\n",
    "dt.fit(X_train, y_train)\n",
    "return dt\n",
    "\n",
    "def test_dt(model, X_test, y_test):\n",
    "y_pred = model.predict(X_test)\n",
    "accuracy = accuracy_score(y_test, y_pred)\n",
    "f1 = f1_score(y_test, y_pred, average='weighted')\n",
    "recall = recall_score(y_test, y_pred, average='weighted')\n",
    "precision = precision_score(y_test, y_pred, average='weighted')\n",
    "cm = confusion_matrix(y_test, y_pred)\n",
    "return accuracy, f1, recall, precision, cm\n",
    "\n"
   ]
  },
  {
   "cell_type": "code",
   "execution_count": null,
   "id": "27dfdd5e",
   "metadata": {},
   "outputs": [],
   "source": [
    "\n",
    "# Train and Test Each Classification Model\n",
    "\n",
    "#We'll call the training and testing functions for each classification model:\n",
    "\n",
    "```python\n",
    "# Train and test KNN model\n",
    "knn_model = train_knn(X_train, y_train)\n",
    "knn_acc, knn_f1, knn_recall, knn_precision, knn_cm = test_knn(knn_model, X_test, y_test)\n",
    "\n",
    "# Train and test SVM model\n",
    "svm_model = train_svm(X_train, y_train)\n",
    "svm_acc, svm_f1, svm_recall, svm_precision, svm_cm = test_svm(svm_model, X_test, y_test)\n",
    "\n",
    "# Train and test Random Forest model\n",
    "rf_model = train_random_forest(X_train, y_train)\n",
    "rf_acc, rf_f1, rf_recall, rf_precision, rf_cm = test_random_forest(rf_model, X_test, y_test)\n",
    "\n",
    "# Train and test Decision Tree model\n",
    "dt_model = train_decision_tree(X_train, y_train)\n",
    "dt_acc, dt_f1, dt_recall, dt_precision, dt_cm = test_decision_tree(dt_model, X_test, y_test)\n"
   ]
  },
  {
   "cell_type": "markdown",
   "id": "2b3633b2",
   "metadata": {},
   "source": [
    "Compare the Performance of Each Model"
   ]
  },
  {
   "cell_type": "code",
   "execution_count": null,
   "id": "051c923a",
   "metadata": {},
   "outputs": [],
   "source": [
    "# Print KNN model evaluation metrics\n",
    "print('KNN Model Accuracy:', knn_acc)\n",
    "print('KNN Model F1 Score:', knn_f1)\n",
    "print('KNN Model Recall:', knn_recall)\n",
    "print('KNN Model Precision:', knn_precision)\n",
    "print('KNN Model Confusion Matrix:\\n', knn_cm)\n",
    "\n",
    "# Print SVM model evaluation metrics\n",
    "print('SVM Model Accuracy:', svm_acc)\n",
    "print('SVM Model F1 Score:', svm_f1)\n",
    "print('SVM Model Recall:', svm_recall)\n",
    "print('SVM Model Precision:', svm_precision)\n",
    "print('SVM Model Confusion Matrix:\\n', svm_cm)\n"
   ]
  }
 ],
 "metadata": {
  "kernelspec": {
   "display_name": "Python 3 (ipykernel)",
   "language": "python",
   "name": "python3"
  },
  "language_info": {
   "codemirror_mode": {
    "name": "ipython",
    "version": 3
   },
   "file_extension": ".py",
   "mimetype": "text/x-python",
   "name": "python",
   "nbconvert_exporter": "python",
   "pygments_lexer": "ipython3",
   "version": "3.9.7"
  }
 },
 "nbformat": 4,
 "nbformat_minor": 5
}
